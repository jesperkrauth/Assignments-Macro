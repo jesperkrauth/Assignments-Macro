{
 "cells": [
  {
   "cell_type": "markdown",
   "metadata": {},
   "source": [
    "# Intermediate Macroeconomics - Labour market effects\n",
    "\n",
    "In this assignment, we consider the classical model of the labour market as we discussed in chapter 6 of the book.\n",
    "\n",
    "We first import some libraries."
   ]
  },
  {
   "cell_type": "code",
   "execution_count": 17,
   "metadata": {
    "collapsed": true
   },
   "outputs": [],
   "source": [
    "from scipy import optimize,arange\n",
    "from numpy import array\n",
    "import matplotlib.pyplot as plt\n",
    "%matplotlib inline"
   ]
  },
  {
   "cell_type": "markdown",
   "metadata": {},
   "source": [
    "# The production function\n",
    "\n",
    "In the first tutorial, exercise 2, you worked with the Cobb Douglas production function. In Python, this function can be written as:"
   ]
  },
  {
   "cell_type": "code",
   "execution_count": 2,
   "metadata": {
    "collapsed": true
   },
   "outputs": [],
   "source": [
    "def production_function(K,L,gamma):\n",
    "    return A*K**gamma*L**(1-gamma)"
   ]
  },
  {
   "cell_type": "markdown",
   "metadata": {},
   "source": [
    "However, in this assignment, we use a standard CES production function:\n",
    "\n",
    "$$\n",
    "Y = (\\alpha K^\\gamma + (1-\\alpha) L^\\gamma)^{1/\\gamma}\n",
    "$$\n",
    "\n",
    "where $\\gamma$ ≤1. When using this function, the substitution elasticity between capital and labour is equal to 1/(1-$\\gamma$), so the higher $\\gamma$ is, the more labour and capital can be substituted for each other.\n",
    "\n"
   ]
  },
  {
   "cell_type": "markdown",
   "metadata": {},
   "source": [
    "** Exercise**\n",
    "\n",
    "Define again the function `production_function(K,L,gamma)` but now for the CES case:\n"
   ]
  },
  {
   "cell_type": "code",
   "execution_count": 214,
   "metadata": {
    "collapsed": true
   },
   "outputs": [],
   "source": [
    "def production_function(K,L,gamma):\n",
    "    return (alpha*K**gamma + (1-alpha)*L**gamma)**(1/gamma)"
   ]
  },
  {
   "cell_type": "markdown",
   "metadata": {},
   "source": [
    "From this production function we derive labour demand with parameter values $\\alpha =0.25, \\beta =0.5, K=1$.\n"
   ]
  },
  {
   "cell_type": "code",
   "execution_count": 215,
   "metadata": {
    "collapsed": false
   },
   "outputs": [],
   "source": [
    "alpha = 0.25\n",
    "beta = 0.5\n",
    "K = 1\n",
    "\n",
    "\n",
    "def labour_demand(gamma,real_wage):\n",
    "    labour =  optimize.fminbound(lambda l: -(production_function(K,l,gamma)-real_wage*l),0,100,full_output=1)\n",
    "    return labour[0]\n",
    "\n"
   ]
  },
  {
   "cell_type": "markdown",
   "metadata": {},
   "source": [
    "** Exercise** \n",
    "\n",
    "Give the Python code for the labour supply function as it was specified in the tutorial exercise:"
   ]
  },
  {
   "cell_type": "code",
   "execution_count": 216,
   "metadata": {
    "collapsed": true
   },
   "outputs": [],
   "source": [
    "def labour_supply(real_wage):\n",
    "    return real_wage**beta"
   ]
  },
  {
   "cell_type": "markdown",
   "metadata": {},
   "source": [
    "** Exercise**\n",
    "\n",
    "Complete the code cell below to plot labour demand and labour supply as a function of the real wage $W/P$, assuming $\\gamma$ has the value -10. Make sure that you specify $W/P$ as label on the y-axis and $L$ as label on the x-axis.\n",
    "\n"
   ]
  },
  {
   "cell_type": "code",
   "execution_count": 223,
   "metadata": {
    "collapsed": false
   },
   "outputs": [
    {
     "data": {
      "image/png": "[encoded data removed]",
      "text/plain": [
       "<matplotlib.figure.Figure at 0x10fd99278>"
      ]
     },
     "metadata": {},
     "output_type": "display_data"
    }
   ],
   "source": [
    "gamma = -10\n",
    "\n",
    "range_realwage = arange(0.001,1.0,0.0001)\n",
    "range_demand = array([labour_demand(gamma, real_wage) for real_wage in range_realwage])\n",
    "range_supply = array([labour_supply(real_wage) for real_wage in range_realwage])\n",
    "\n",
    "fig = plt.figure()\n",
    "fig.suptitle('The labour market', fontsize=20, fontweight='light')\n",
    "\n",
    "ax = fig.add_subplot(111)\n",
    "fig.subplots_adjust(top=0.85)\n",
    "\n",
    "ax.set_xlabel('L', fontweight='bold', fontsize=14)\n",
    "ax.set_ylabel('W/P', fontweight='bold', fontsize=14)\n",
    "\n",
    "line1, = plt.plot(range_realwage, range_demand, label=\"Labour demand\")\n",
    "line2, = plt.plot(range_realwage, range_supply, label=\"Labour supply\")\n",
    "\n",
    "first_legend = plt.legend(handles=[line1], loc=1)\n",
    "ax = plt.gca().add_artist(first_legend)\n",
    "plt.legend(handles=[line2], loc=4)\n",
    "\n",
    "plt.show()"
   ]
  },
  {
   "cell_type": "markdown",
   "metadata": {},
   "source": [
    "We can solve for the equilibrium value.\n",
    "\n"
   ]
  },
  {
   "cell_type": "code",
   "execution_count": 153,
   "metadata": {
    "collapsed": false
   },
   "outputs": [
    {
     "data": {
      "text/plain": [
       "array([ 0.86949312])"
      ]
     },
     "execution_count": 153,
     "metadata": {},
     "output_type": "execute_result"
    }
   ],
   "source": [
    "initial_guess = 0.8\n",
    "optimize.fsolve(lambda w: labour_demand(gamma,w)-labour_supply(w), initial_guess)"
   ]
  },
  {
   "cell_type": "markdown",
   "metadata": {},
   "source": [
    "**Additional explanation**: This means that, given all values ($\\alpha = 0.25$, $\\beta = 0.5$, $K = 1$, and $\\gamma = -10$), that the labour market clears at a level $L^*$ which is equal to, approximately, $0.87$."
   ]
  },
  {
   "cell_type": "markdown",
   "metadata": {},
   "source": [
    "** Exercise **\n",
    "\n",
    "Calculate equilibrium output $Y$."
   ]
  },
  {
   "cell_type": "code",
   "execution_count": 155,
   "metadata": {
    "collapsed": false
   },
   "outputs": [
    {
     "data": {
      "text/plain": [
       "0.8878184988829255"
      ]
     },
     "execution_count": 155,
     "metadata": {},
     "output_type": "execute_result"
    }
   ],
   "source": [
    "production_function(1,0.86949312,-10)"
   ]
  },
  {
   "cell_type": "markdown",
   "metadata": {},
   "source": [
    "**Additional explanation**: Therefore, given $L^*$, the equilibrium output $Y^*$ is, approximately, $0.89$. "
   ]
  },
  {
   "cell_type": "markdown",
   "metadata": {},
   "source": [
    "# The AS-curve"
   ]
  },
  {
   "cell_type": "markdown",
   "metadata": {},
   "source": [
    "Assume that the nominal wage $W$ is fixed at the level 0.01. We would like to plot the aggregate supply curve, that is: output $Y$ as a function of $P$."
   ]
  },
  {
   "cell_type": "code",
   "execution_count": 224,
   "metadata": {
    "collapsed": true
   },
   "outputs": [],
   "source": [
    "W = 0.01\n",
    "\n",
    "def labour_out_of_equilibrium(P,gamma):\n",
    "    l = min(labour_demand(gamma,W/P), labour_supply(W/P))\n",
    "    return l"
   ]
  },
  {
   "cell_type": "markdown",
   "metadata": {},
   "source": [
    "---\n",
    "\n",
    "**Exercise**\n",
    "\n",
    "1.  Explain the code above.\n",
    "  + $W = 0.01$ indicates that the real wage ($W/P$) is equal to $0.01$.\n",
    "  + The \"def labour_out_of_equilibrium ($P$, gamma)\" part defines the labour out of equilibrium (in this case, the \"oversupply\" or \"undersupply\" of labour).\n",
    "  + The \"l = min (labour_demand(gamma, $W/P$), labour_supply($W/P$))\" aims to take the lowest value (hence the min() being used) of either the labour demand or the labour supply, based on the variables gamma and the real wage rate W/P. \n",
    "  + Concluding, this formula will give us the difference in terms of $Y$ between the demand curve and supply curve. So, if labour demand is bigger than labour supply, it will show the changes in output $Y$ because of the oversupply of labour. Similarly, if labour supply is bigger than labour demand, it will show the changes in output $Y$ because of the undersupply of labour. \n",
    "  \n",
    "2. Plot output $Y$ as a function of $P$.  \n",
    "Look at the graph and the accompanying code below.\n",
    "\n",
    "---"
   ]
  },
  {
   "cell_type": "code",
   "execution_count": 225,
   "metadata": {
    "collapsed": false
   },
   "outputs": [
    {
     "data": {
      "image/png": "[encoded data removed]",
      "text/plain": [
       "<matplotlib.figure.Figure at 0x11009cf60>"
      ]
     },
     "metadata": {},
     "output_type": "display_data"
    }
   ],
   "source": [
    "range_P = arange(0.01,10,1)\n",
    "range_labour = array([labour_out_of_equilibrium(P, gamma) for P in range_P])\n",
    "\n",
    "fig = plt.figure()\n",
    "fig.suptitle('The AS curve', fontsize=20, fontweight='light')\n",
    "\n",
    "ax = fig.add_subplot(111)\n",
    "fig.subplots_adjust(top=0.85)\n",
    "\n",
    "ax.set_xlabel('Y', fontweight='bold', fontsize=14)\n",
    "ax.set_ylabel('P', fontweight='bold', fontsize=14)\n",
    "\n",
    "line1, = plt.plot(range_P, range_labour, label=\"Aggregate supply\")\n",
    "\n",
    "first_legend = plt.legend(handles=[line1], loc=1)\n",
    "ax = plt.gca().add_artist(first_legend)\n",
    "\n",
    "plt.show()"
   ]
  },
  {
   "cell_type": "markdown",
   "metadata": {},
   "source": [
    "# Taxation"
   ]
  },
  {
   "cell_type": "markdown",
   "metadata": {},
   "source": [
    "In this framework, we can introduce taxation as we also did in the tutorial exercise. With a social security tax $t_{worker}$, labour demand gets a different form.\n"
   ]
  },
  {
   "cell_type": "markdown",
   "metadata": {},
   "source": [
    "** Exercise**\n",
    "\n",
    "Adjust the code above by including a social security tax."
   ]
  },
  {
   "cell_type": "code",
   "execution_count": 226,
   "metadata": {
    "collapsed": true
   },
   "outputs": [],
   "source": [
    "def labour_demand(gamma,real_wage,t_worker):\n",
    "    labour =  optimize.fminbound(lambda l: -(production_function(K,l,gamma)-real_wage*(1+t_worker)*l),0,100,full_output=1)\n",
    "    return labour[0]"
   ]
  },
  {
   "cell_type": "markdown",
   "metadata": {
    "collapsed": true
   },
   "source": [
    "---\n",
    "\n",
    "**Exercise**\n",
    "\n",
    "1.  Calculate the equilibrium employment and output levels for `t_worker = 0` and `t_worker = 0.2` at $\\gamma = -10$.\n",
    "2.  Do the same for $\\gamma = -1$ and discuss the difference with the case of $\\gamma = -10$.\n",
    "\n",
    "---\n"
   ]
  },
  {
   "cell_type": "code",
   "execution_count": 229,
   "metadata": {
    "collapsed": false
   },
   "outputs": [
    {
     "data": {
      "image/png": "[encoded data removed]",
      "text/plain": [
       "<matplotlib.figure.Figure at 0x10fe22400>"
      ]
     },
     "metadata": {},
     "output_type": "display_data"
    }
   ],
   "source": [
    "t_worker = 0\n",
    "\n",
    "range_realwage = arange(0.001,1.0,0.0001)\n",
    "range_demand = array([labour_demand(gamma, real_wage, t_worker) for real_wage in range_realwage])\n",
    "range_supply = array([labour_supply(real_wage) for real_wage in range_realwage])\n",
    "\n",
    "fig = plt.figure()\n",
    "fig.suptitle('The labour market', fontsize=20, fontweight='light')\n",
    "\n",
    "ax = fig.add_subplot(111)\n",
    "fig.subplots_adjust(top=0.85)\n",
    "\n",
    "ax.set_xlabel('L', fontweight='bold', fontsize=14)\n",
    "ax.set_ylabel('W/P', fontweight='bold', fontsize=14)\n",
    "\n",
    "line1, = plt.plot(range_realwage, range_demand, label=\"Labour demand\")\n",
    "line2, = plt.plot(range_realwage, range_supply, label=\"Labour supply\")\n",
    "\n",
    "first_legend = plt.legend(handles=[line1], loc=1)\n",
    "ax = plt.gca().add_artist(first_legend)\n",
    "plt.legend(handles=[line2], loc=4)\n",
    "\n",
    "plt.show()"
   ]
  },
  {
   "cell_type": "code",
   "execution_count": 180,
   "metadata": {
    "collapsed": false
   },
   "outputs": [
    {
     "data": {
      "text/plain": [
       "array([ 0.86949312])"
      ]
     },
     "execution_count": 180,
     "metadata": {},
     "output_type": "execute_result"
    }
   ],
   "source": [
    "initial_guess = 0.8\n",
    "optimize.fsolve(lambda w: labour_demand(gamma,w,t_worker)-labour_supply(w), initial_guess)"
   ]
  },
  {
   "cell_type": "code",
   "execution_count": 181,
   "metadata": {
    "collapsed": false
   },
   "outputs": [
    {
     "data": {
      "text/plain": [
       "0.8878184988829255"
      ]
     },
     "execution_count": 181,
     "metadata": {},
     "output_type": "execute_result"
    }
   ],
   "source": [
    "production_function(1,0.86949312,-10)"
   ]
  },
  {
   "cell_type": "markdown",
   "metadata": {},
   "source": [
    "**Question 1, with $t_{worker} = 0$:**  \n",
    "Obviously, with all values the same and $t_{worker} = 0$, we still have the same equilibrium employment level $L ≈ 0.87$, and the output level $Y ≈ 0.89$"
   ]
  },
  {
   "cell_type": "code",
   "execution_count": 230,
   "metadata": {
    "collapsed": false
   },
   "outputs": [
    {
     "data": {
      "image/png": "[encoded data removed]",
      "text/plain": [
       "<matplotlib.figure.Figure at 0x1113fdcc0>"
      ]
     },
     "metadata": {},
     "output_type": "display_data"
    }
   ],
   "source": [
    "t_worker = 0.2\n",
    "\n",
    "range_realwage = arange(0.001,1.0,0.0001)\n",
    "range_demand = array([labour_demand(gamma, real_wage, t_worker) for real_wage in range_realwage])\n",
    "range_supply = array([labour_supply(real_wage) for real_wage in range_realwage])\n",
    "\n",
    "fig = plt.figure()\n",
    "fig.suptitle('The labour market', fontsize=20, fontweight='light')\n",
    "\n",
    "ax = fig.add_subplot(111)\n",
    "fig.subplots_adjust(top=0.85)\n",
    "\n",
    "ax.set_xlabel('L', fontweight='bold', fontsize=14)\n",
    "ax.set_ylabel('W/P', fontweight='bold', fontsize=14)\n",
    "\n",
    "line1, = plt.plot(range_realwage, range_demand, label=\"Labour demand\")\n",
    "line2, = plt.plot(range_realwage, range_supply, label=\"Labour supply\")\n",
    "\n",
    "first_legend = plt.legend(handles=[line1], loc=1)\n",
    "ax = plt.gca().add_artist(first_legend)\n",
    "plt.legend(handles=[line2], loc=4)\n",
    "\n",
    "plt.show()"
   ]
  },
  {
   "cell_type": "code",
   "execution_count": 183,
   "metadata": {
    "collapsed": false
   },
   "outputs": [
    {
     "data": {
      "text/plain": [
       "array([ 0.77675346])"
      ]
     },
     "execution_count": 183,
     "metadata": {},
     "output_type": "execute_result"
    }
   ],
   "source": [
    "initial_guess = 0.8\n",
    "optimize.fsolve(lambda w: labour_demand(gamma,w,t_worker)-labour_supply(w), initial_guess)"
   ]
  },
  {
   "cell_type": "code",
   "execution_count": 184,
   "metadata": {
    "collapsed": false
   },
   "outputs": [
    {
     "data": {
      "text/plain": [
       "0.7973239212276428"
      ]
     },
     "execution_count": 184,
     "metadata": {},
     "output_type": "execute_result"
    }
   ],
   "source": [
    "production_function(1,0.77675346,-10)"
   ]
  },
  {
   "cell_type": "markdown",
   "metadata": {},
   "source": [
    "**Question 1, with $t_{worker} = 0.2$**:  \n",
    "Now, both the equilibrium employment level ($L ≈ 0.77$) and the output level ($Y ≈ 0.80$) have fallen. Because of the higher social security tax rate, workers are less willing to supply labour at each wage rate, as they end up with less  money in the end. This makes labour more costly for firms, which therefore sees output decrease as well."
   ]
  },
  {
   "cell_type": "code",
   "execution_count": 233,
   "metadata": {
    "collapsed": false
   },
   "outputs": [
    {
     "data": {
      "image/png": "[encoded data removed]",
      "text/plain": [
       "<matplotlib.figure.Figure at 0x1110a57b8>"
      ]
     },
     "metadata": {},
     "output_type": "display_data"
    }
   ],
   "source": [
    "t_worker = 0\n",
    "gamma = -1\n",
    "\n",
    "range_realwage = arange(0.001,1.0,0.0001)\n",
    "range_demand = array([labour_demand(gamma, real_wage, t_worker) for real_wage in range_realwage])\n",
    "range_supply = array([labour_supply(real_wage) for real_wage in range_realwage])\n",
    "\n",
    "fig = plt.figure()\n",
    "fig.suptitle('The labour market', fontsize=20, fontweight='light')\n",
    "\n",
    "ax = fig.add_subplot(111)\n",
    "fig.subplots_adjust(top=0.85)\n",
    "\n",
    "ax.set_xlabel('L', fontweight='bold', fontsize=14)\n",
    "ax.set_ylabel('W/P', fontweight='bold', fontsize=14)\n",
    "\n",
    "axes = plt.gca()\n",
    "axes.set_ylim([0,5])\n",
    "\n",
    "line1, = plt.plot(range_realwage, range_demand, label=\"Labour demand\")\n",
    "line2, = plt.plot(range_realwage, range_supply, label=\"Labour supply\")\n",
    "\n",
    "first_legend = plt.legend(handles=[line1], loc=1)\n",
    "ax = plt.gca().add_artist(first_legend)\n",
    "plt.legend(handles=[line2], loc=4)\n",
    "\n",
    "plt.show()"
   ]
  },
  {
   "cell_type": "code",
   "execution_count": 186,
   "metadata": {
    "collapsed": false
   },
   "outputs": [
    {
     "data": {
      "text/plain": [
       "array([ 0.79284558])"
      ]
     },
     "execution_count": 186,
     "metadata": {},
     "output_type": "execute_result"
    }
   ],
   "source": [
    "initial_guess = 0.8\n",
    "optimize.fsolve(lambda w: labour_demand(gamma,w,t_worker)-labour_supply(w), initial_guess)"
   ]
  },
  {
   "cell_type": "code",
   "execution_count": 187,
   "metadata": {
    "collapsed": false
   },
   "outputs": [
    {
     "data": {
      "text/plain": [
       "0.8361485468121801"
      ]
     },
     "execution_count": 187,
     "metadata": {},
     "output_type": "execute_result"
    }
   ],
   "source": [
    "production_function(1,0.79284558,-1)"
   ]
  },
  {
   "cell_type": "markdown",
   "metadata": {},
   "source": [
    "**Question 2 with $t_{worker} = 0$ and $\\gamma = -1$**:  \n",
    "Now, equilibrium employment is lower ($L ≈ 0.79$) with $\\gamma = -1$, compared to when $\\gamma = -10$. Income has decreased too ($Y ≈ 0.83$)."
   ]
  },
  {
   "cell_type": "code",
   "execution_count": 236,
   "metadata": {
    "collapsed": false
   },
   "outputs": [
    {
     "data": {
      "image/png": "[encoded data removed]",
      "text/plain": [
       "<matplotlib.figure.Figure at 0x104404d30>"
      ]
     },
     "metadata": {},
     "output_type": "display_data"
    }
   ],
   "source": [
    "t_worker = 0.2\n",
    "gamma = -1\n",
    "\n",
    "range_realwage = arange(0.001,1.0,0.0001)\n",
    "range_demand = array([labour_demand(gamma, real_wage, t_worker) for real_wage in range_realwage])\n",
    "range_supply = array([labour_supply(real_wage) for real_wage in range_realwage])\n",
    "\n",
    "fig = plt.figure()\n",
    "fig.suptitle('The labour market', fontsize=20, fontweight='light')\n",
    "\n",
    "ax = fig.add_subplot(111)\n",
    "fig.subplots_adjust(top=0.85)\n",
    "\n",
    "ax.set_xlabel('L', fontweight='bold', fontsize=14)\n",
    "ax.set_ylabel('W/P', fontweight='bold', fontsize=14)\n",
    "\n",
    "axes = plt.gca()\n",
    "axes.set_ylim([0,5])\n",
    "\n",
    "line1, = plt.plot(range_realwage, range_demand, label=\"Labour demand\")\n",
    "line2, = plt.plot(range_realwage, range_supply, label=\"Labour supply\")\n",
    "\n",
    "first_legend = plt.legend(handles=[line1], loc=1)\n",
    "ax = plt.gca().add_artist(first_legend)\n",
    "plt.legend(handles=[line2], loc=4)\n",
    "\n",
    "plt.show()"
   ]
  },
  {
   "cell_type": "code",
   "execution_count": 193,
   "metadata": {
    "collapsed": false
   },
   "outputs": [
    {
     "data": {
      "text/plain": [
       "array([ 0.68298695])"
      ]
     },
     "execution_count": 193,
     "metadata": {},
     "output_type": "execute_result"
    }
   ],
   "source": [
    "initial_guess = 0.7\n",
    "optimize.fsolve(lambda w: labour_demand(gamma,w,t_worker)-labour_supply(w), initial_guess)"
   ]
  },
  {
   "cell_type": "code",
   "execution_count": 194,
   "metadata": {
    "collapsed": false
   },
   "outputs": [
    {
     "data": {
      "text/plain": [
       "0.7417750421298668"
      ]
     },
     "execution_count": 194,
     "metadata": {},
     "output_type": "execute_result"
    }
   ],
   "source": [
    "production_function(1,0.68298695,-1)"
   ]
  },
  {
   "cell_type": "markdown",
   "metadata": {},
   "source": [
    "**Question 2 with $t_{worker} = 0.2$ and $\\gamma = -1$**:  \n",
    "Equilibrium employment has decreased ($L ≈ 0.68$) with $\\gamma = -1$ and $t_{worker} = 0.2$, compared to when $\\gamma = -10$. Income has decreased too ($Y ≈ 0.74$)."
   ]
  },
  {
   "cell_type": "markdown",
   "metadata": {},
   "source": [
    "Concluding, we see that the higher $t_{worker}$ is, the lower equilibrium employment and therefore total income is. This is logical, as explained before: Because of the higher social security tax rate, workers are less willing to supply labour at each wage rate, as they end up with less money in the end. This makes labour more costly for firms, which therefore sees output decrease as well.  \n",
    "Yet, we also notice that the higher $\\gamma$ is, the lower equilibrium employment and therefore total income is. We have learned that $\\gamma$ tells us something about the stickiness of prices. The higher $\\gamma$, the less sticky prices become. This means that prices will deviate sooner, and pressure on wage contracts with pre-determined wage rates increases. The higher $\\gamma$ also makes for a steeper $AS$ curve, making total income $Y$ more \"vulnerable\" for sudden changes in the employment level $L$."
   ]
  },
  {
   "cell_type": "code",
   "execution_count": null,
   "metadata": {
    "collapsed": true
   },
   "outputs": [],
   "source": []
  }
 ],
 "metadata": {
  "kernelspec": {
   "display_name": "Python 3",
   "language": "python",
   "name": "python3"
  },
  "language_info": {
   "codemirror_mode": {
    "name": "ipython",
    "version": 3
   },
   "file_extension": ".py",
   "mimetype": "text/x-python",
   "name": "python",
   "nbconvert_exporter": "python",
   "pygments_lexer": "ipython3",
   "version": "3.6.0"
  },
  "org": null
 },
 "nbformat": 4,
 "nbformat_minor": 1
}
